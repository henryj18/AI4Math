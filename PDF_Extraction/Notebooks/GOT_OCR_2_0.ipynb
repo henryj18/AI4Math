{
  "nbformat": 4,
  "nbformat_minor": 0,
  "metadata": {
    "colab": {
      "provenance": [],
      "gpuType": "T4",
      "include_colab_link": true
    },
    "kernelspec": {
      "name": "python3",
      "display_name": "Python 3"
    },
    "language_info": {
      "name": "python"
    },
    "accelerator": "GPU"
  },
  "cells": [
    {
      "cell_type": "markdown",
      "metadata": {
        "id": "view-in-github",
        "colab_type": "text"
      },
      "source": [
        "<a href=\"https://colab.research.google.com/github/henryj18/AI4Math/blob/main/PDF_Extraction/GOT_OCR_2_0.ipynb\" target=\"_parent\"><img src=\"https://colab.research.google.com/assets/colab-badge.svg\" alt=\"Open In Colab\"/></a>"
      ]
    },
    {
      "cell_type": "markdown",
      "source": [
        "## Installing packages"
      ],
      "metadata": {
        "id": "1cGXn1f3awNR"
      }
    },
    {
      "cell_type": "code",
      "source": [
        "pip install tiktoken"
      ],
      "metadata": {
        "id": "3JDkj4jQEa2Y"
      },
      "execution_count": null,
      "outputs": []
    },
    {
      "cell_type": "code",
      "source": [
        "pip install verovio"
      ],
      "metadata": {
        "id": "9sU00sWHEiui"
      },
      "execution_count": null,
      "outputs": []
    },
    {
      "cell_type": "code",
      "source": [
        "pip install accelerate"
      ],
      "metadata": {
        "id": "UZzbZzF1EkVJ"
      },
      "execution_count": null,
      "outputs": []
    },
    {
      "cell_type": "code",
      "source": [
        "pip install pdf2image\n"
      ],
      "metadata": {
        "id": "VUj1lUmYkIL9"
      },
      "execution_count": null,
      "outputs": []
    },
    {
      "cell_type": "code",
      "source": [
        "!apt-get install poppler-utils"
      ],
      "metadata": {
        "id": "jnBaETWDplfN"
      },
      "execution_count": null,
      "outputs": []
    },
    {
      "cell_type": "markdown",
      "source": [
        "## steps involved in converting PDF to text + latex\n",
        "\n",
        "1. Converting PDF to images (one image per page)\n",
        "2. Using OCR Model to extract the text + mathematical equations(in latex)\n",
        "3. preprocessing the extracted text to our format"
      ],
      "metadata": {
        "id": "Md3ryEDSUpN4"
      }
    },
    {
      "cell_type": "markdown",
      "source": [
        "in python the single backslash (' \\\\ ') is taken as escape character so it automatically converts the single bakcslash ( ' \\\\ ' ) into the double backslash ( '\\\\\\\\' ) while storing the text in the datastrucutures like array(this doesnt apply to the variables)\n",
        "\n",
        "\n",
        "so we see the Ambiguity when we try to store the text in the variable to the data structure(single backslash in the variable is automatically converted into the double backslash)\n",
        "[link](https://stackoverflow.com/questions/17327202/python-replace-single-backslash-with-double-backslash#:~:text=The%20backslash%20indicates%20a%20special,quotation%20as%20an%20escape%20character.)"
      ],
      "metadata": {
        "id": "tzqjQiJcZgmD"
      }
    },
    {
      "cell_type": "markdown",
      "source": [
        "### STEP-1:- PDF to Image"
      ],
      "metadata": {
        "id": "6PQZ1kqNVP9P"
      }
    },
    {
      "cell_type": "markdown",
      "source": [
        "link:- [pdf2image](https://pypi.org/project/pdf2image/)\n",
        "\n",
        "Note:- make sure you have installed poppler in your environment using cmd\n",
        "\n",
        "\n",
        "\n",
        "```\n",
        " !apt-get install poppler-utils\n",
        "```\n",
        "\n",
        "\n"
      ],
      "metadata": {
        "id": "SnOu2fiiVjzw"
      }
    },
    {
      "cell_type": "code",
      "source": [
        "from pdf2image import convert_from_path\n",
        "import os\n",
        "\n",
        "\n",
        "pdf_path = '<path_to_the_pdf> '\n",
        "\n",
        "#converting PDF to a list of images (one image per page)\n",
        "images = convert_from_path(pdf_path)\n",
        "\n",
        "# path for saving the created images of the PDF\n",
        "os.makedirs('output_folder')\n",
        "\n",
        "for i, image in enumerate(images):\n",
        "    image_path = os.path.join('output_folder', f'page_{i + 1}.png')\n",
        "    image.save(image_path, 'PNG')"
      ],
      "metadata": {
        "id": "Y9hKUneRoEUl"
      },
      "execution_count": null,
      "outputs": []
    },
    {
      "cell_type": "markdown",
      "source": [
        "### STEP-2:- Using OCR Model to extract Text"
      ],
      "metadata": {
        "id": "kVfFBFNTVU5A"
      }
    },
    {
      "cell_type": "markdown",
      "source": [
        "hf model link :- [GOT-OCR-2.0](https://huggingface.co/stepfun-ai/GOT-OCR2_0)\n",
        "\n",
        "requirements:-\n",
        "\n",
        "\n",
        "torch==2.0.1\n",
        "\n",
        "torchvision==0.15.2\n",
        "\n",
        "transformers==4.37.2\n",
        "\n",
        "tiktoken==0.6.0\n",
        "\n",
        "verovio==4.3.1\n",
        "\n",
        "accelerate==0.28.0\n",
        "\n",
        "\n",
        "\n",
        "\n",
        "\n",
        "Note:- Load the model to GPU ('cuda') for faster processing"
      ],
      "metadata": {
        "id": "g28a4iofVerg"
      }
    },
    {
      "cell_type": "code",
      "source": [
        "from transformers import AutoModel, AutoTokenizer\n",
        "\n",
        "# Loading the tokenizer for the pre-trained OCR model\n",
        "tokenizer = AutoTokenizer.from_pretrained('ucaslcl/GOT-OCR2_0', trust_remote_code=True)\n",
        "# Loading the pre-trained OCR model\n",
        "model = AutoModel.from_pretrained('ucaslcl/GOT-OCR2_0', trust_remote_code=True, low_cpu_mem_usage=True, device_map='cuda', use_safetensors=True, pad_token_id=tokenizer.eos_token_id)\n",
        "\n",
        "model = model.eval().cuda()"
      ],
      "metadata": {
        "id": "SnihoiQ3BYx6"
      },
      "execution_count": null,
      "outputs": []
    },
    {
      "cell_type": "markdown",
      "source": [
        "### STEP 3:- Preprocessing the output text\n",
        "\n"
      ],
      "metadata": {
        "id": "BIOVGY7MXVcg"
      }
    },
    {
      "cell_type": "code",
      "source": [
        "# function the change the delimiters of the latex part in the text\n",
        "# for the mathematical equations the output of the model is  'Let \\(\\alpha\\) and \\(\\beta\\) be real numbers' or \\[\n",
        "#\\left(\\frac{\\sin \\alpha}{\\cos \\beta}+\\frac{\\cos \\beta}{\\sin \\alpha}+\\frac{\\cos \\alpha}{\\sin \\beta}+\\frac{\\sin \\beta}{\\cos \\alpha}\\right)^{2}\\]\n",
        "# the latex in indicated in the \\( - \\) or \\[ - \\]\n",
        "# this function changes that to the mathematical equation between $ - $\n",
        "import re\n",
        "\n",
        "def Transform_Latex_Delimiters(text):\n",
        "  result = re.sub(r'\\\\\\(', '$', text)\n",
        "  result = re.sub(r'\\\\\\[', '$', result)\n",
        "  result = re.sub(r'\\\\\\)', '$', result)\n",
        "  result = re.sub(r'\\\\\\]', '$', result)\n",
        "  return result"
      ],
      "metadata": {
        "id": "z_9VZ-S98PJu"
      },
      "execution_count": null,
      "outputs": []
    },
    {
      "cell_type": "markdown",
      "source": [
        "Note:- In this function the pattern changes from pdf to pdf we should change it by observing the pdf"
      ],
      "metadata": {
        "id": "O4wuwhHzYA6Y"
      }
    },
    {
      "cell_type": "code",
      "source": [
        "# function to separate the questions from single text\n",
        "\n",
        "def SplitQuestions(text):\n",
        "  pattern = r'Q\\.\\s*\\d+'\n",
        "  questions = re.split(pattern, text)\n",
        "  questions = [q.strip() for q in questions if q.strip()]\n",
        "  return questions"
      ],
      "metadata": {
        "id": "h7yf6Ysp81TO"
      },
      "execution_count": null,
      "outputs": []
    },
    {
      "cell_type": "code",
      "source": [
        "def ExtractQuestionsFromImage(img_path):\n",
        "  text_in_image = model.chat(tokenizer, img_path, ocr_type='format')\n",
        "  transformed_text = Transform_Latex_Delimiters(text_in_image)\n",
        "  questions = SplitQuestions(transformed_text)\n",
        "  return questions"
      ],
      "metadata": {
        "id": "CXpKQDwE-QLZ"
      },
      "execution_count": null,
      "outputs": []
    },
    {
      "cell_type": "code",
      "source": [
        "import pandas as pd\n",
        "def ConvertToCSV(questions, csv_file_path):\n",
        "  questions_df = pd.DataFrame(questions, columns=['Question'])\n",
        "  questions_df.to_csv(csv_file_path, index=False)\n",
        "  return"
      ],
      "metadata": {
        "id": "P8lLE1oOAZbh"
      },
      "execution_count": null,
      "outputs": []
    },
    {
      "cell_type": "code",
      "source": [
        "folder_path = ''\n",
        "all_questions = []\n",
        "for filename in os.listdir(folder_path):\n",
        "  img_path = os.path.join(folder_path, filename)\n",
        "  print(filename)\n",
        "  questions = ExtractQuestionsFromImage(img_path)\n",
        "  # this part may not be needed for every pdf (removing the instructions )\n",
        "  # this is pdf dependent\n",
        "  questions = [question for question in questions if not question.startswith('\\\\title')]\n",
        "  all_questions.extend(questions)\n",
        "\n",
        "ConvertToCSV(all_questions, '<your_csv_file_path>')\n"
      ],
      "metadata": {
        "id": "IRsqj_820Zku"
      },
      "execution_count": null,
      "outputs": []
    },
    {
      "cell_type": "markdown",
      "source": [
        "## For testing on single image the code part is"
      ],
      "metadata": {
        "id": "cYH8KowJYfOp"
      }
    },
    {
      "cell_type": "code",
      "source": [
        "import time\n",
        "\n",
        "def TestingWithImage(img_path):\n",
        "  start = time.time()\n",
        "  #extracting text from image\n",
        "  text_in_image = model.chat(tokenizer, img_path, ocr_type='format')\n",
        "  end = time.time()\n",
        "  # Inference time\n",
        "  print(f\"Inference Time:- {end-start}\")\n",
        "\n",
        "\n",
        "  print(\"************************* text in the image from ocr ***********************\")\n",
        "  print(text_in_image)\n",
        "\n",
        "  #preprocessing the output text to convert into required format\n",
        "\n",
        "  print(\"************************* text in the image after transformation ***********************\")\n",
        "  transformed_text = Transform_Latex_Delimiters(text_in_image)\n",
        "  print(transformed_text)\n",
        "\n",
        "  print(\"************************* questions ***********************\")\n",
        "  questions = SplitQuestions(transformed_text)\n",
        "  print(questions)\n",
        "\n",
        "  print(\"************************* questions after removing Instructions ***********************\")\n",
        "  questions = [question for question in questions if not question.startswith('\\\\title')]\n",
        "  print(questions)\n",
        "\n",
        "TestingWithImage('<image path>')"
      ],
      "metadata": {
        "colab": {
          "base_uri": "https://localhost:8080/"
        },
        "id": "6DsKO8le-IUO",
        "outputId": "8befd188-0e27-40d1-e66c-16d97cdbae74"
      },
      "execution_count": null,
      "outputs": [
        {
          "output_type": "stream",
          "name": "stderr",
          "text": [
            "The attention mask and the pad token id were not set. As a consequence, you may observe unexpected behavior. Please pass your input's `attention_mask` to obtain reliable results.\n",
            "Setting `pad_token_id` to `eos_token_id`:151643 for open-end generation.\n"
          ]
        },
        {
          "output_type": "stream",
          "name": "stdout",
          "text": [
            "17.631876230239868\n",
            "************************* text in the image from ocr ***********************\n",
            "\\title{\n",
            "Section 1 (Maximum marks: 24)\n",
            "}\n",
            "- This section contains EIGHT (08) questions.\n",
            "- The answer to each question is a SINGLE DIGIT INTEGER ranging from 0 TO 9, BOTH INCLUSIVE.\n",
            "- For each question, enter the correct integer corresponding to the answer using the mouse and the onscreen virtual numeric keypad in the place designated to enter the answer.\n",
            "- Answer to each question will be evaluated according to the following marking scheme:\n",
            "Full Marks : +3 If ONLY the correct integer is entered;\n",
            "Zero Marks : 0 If the question is unanswered;\n",
            "Negative Marks : -1 In all other cases.\n",
            "Q. 1 Let \\(\\alpha\\) and \\(\\beta\\) be real numbers such that \\(-\\frac{\\pi}{4}<\\beta<0<\\alpha<\\frac{\\pi}{4}\\). If \\(\\sin (\\alpha+\\beta)=\\frac{1}{3}\\) and \\(\\cos (\\alpha-\\beta)=\\frac{2}{3}\\), then the greatest integer less than or equal to\n",
            "\\[\n",
            "\\left(\\frac{\\sin \\alpha}{\\cos \\beta}+\\frac{\\cos \\beta}{\\sin \\alpha}+\\frac{\\cos \\alpha}{\\sin \\beta}+\\frac{\\sin \\beta}{\\cos \\alpha}\\right)^{2}\n",
            "\\]\n",
            "is\n",
            "Q. 2 If \\(y(x)\\) is the solution of the differential equation\n",
            "\\[\n",
            "x d y-\\left(y^{2}-4 y\\right) d x=0 \\text { for } x>0, \\quad y(1)=2\n",
            "\\]\n",
            "and the slope of the curve \\(y=y(x)\\) is never zero, then the value of \\(10 y(\\sqrt{2})\\) is\n",
            "Q. 3 The greatest integer less than or equal to\n",
            "\\[\n",
            "\\int_{1}^{2} \\log _{2}\\left(x^{3}+1\\right) d x+\\int_{1}^{\\log _{2} 9}\\left(2^{x}-1\\right)^{\\frac{1}{3}} d x\n",
            "\\]\n",
            "is\n",
            "Q. 4 The product of all positive real values of \\(x\\) satisfying the equation\n",
            "\\[\n",
            "x^{(16(\\log _{5} x)^{3}-68 \\log _{5} x)}=5^{-16}\n",
            "\\]\n",
            "************************* text in the image after transformation ***********************\n",
            "\\title{\n",
            "Section 1 (Maximum marks: 24)\n",
            "}\n",
            "- This section contains EIGHT (08) questions.\n",
            "- The answer to each question is a SINGLE DIGIT INTEGER ranging from 0 TO 9, BOTH INCLUSIVE.\n",
            "- For each question, enter the correct integer corresponding to the answer using the mouse and the onscreen virtual numeric keypad in the place designated to enter the answer.\n",
            "- Answer to each question will be evaluated according to the following marking scheme:\n",
            "Full Marks : +3 If ONLY the correct integer is entered;\n",
            "Zero Marks : 0 If the question is unanswered;\n",
            "Negative Marks : -1 In all other cases.\n",
            "Q. 1 Let $\\alpha$ and $\\beta$ be real numbers such that $-\\frac{\\pi}{4}<\\beta<0<\\alpha<\\frac{\\pi}{4}$. If $\\sin (\\alpha+\\beta)=\\frac{1}{3}$ and $\\cos (\\alpha-\\beta)=\\frac{2}{3}$, then the greatest integer less than or equal to\n",
            "$\n",
            "\\left(\\frac{\\sin \\alpha}{\\cos \\beta}+\\frac{\\cos \\beta}{\\sin \\alpha}+\\frac{\\cos \\alpha}{\\sin \\beta}+\\frac{\\sin \\beta}{\\cos \\alpha}\\right)^{2}\n",
            "$\n",
            "is\n",
            "Q. 2 If $y(x)$ is the solution of the differential equation\n",
            "$\n",
            "x d y-\\left(y^{2}-4 y\\right) d x=0 \\text { for } x>0, \\quad y(1)=2\n",
            "$\n",
            "and the slope of the curve $y=y(x)$ is never zero, then the value of $10 y(\\sqrt{2})$ is\n",
            "Q. 3 The greatest integer less than or equal to\n",
            "$\n",
            "\\int_{1}^{2} \\log _{2}\\left(x^{3}+1\\right) d x+\\int_{1}^{\\log _{2} 9}\\left(2^{x}-1\\right)^{\\frac{1}{3}} d x\n",
            "$\n",
            "is\n",
            "Q. 4 The product of all positive real values of $x$ satisfying the equation\n",
            "$\n",
            "x^{(16(\\log _{5} x)^{3}-68 \\log _{5} x)}=5^{-16}\n",
            "$\n",
            "************************* questions ***********************\n",
            "['\\\\title{\\nSection 1 (Maximum marks: 24)\\n}\\n- This section contains EIGHT (08) questions.\\n- The answer to each question is a SINGLE DIGIT INTEGER ranging from 0 TO 9, BOTH INCLUSIVE.\\n- For each question, enter the correct integer corresponding to the answer using the mouse and the onscreen virtual numeric keypad in the place designated to enter the answer.\\n- Answer to each question will be evaluated according to the following marking scheme:\\nFull Marks : +3 If ONLY the correct integer is entered;\\nZero Marks : 0 If the question is unanswered;\\nNegative Marks : -1 In all other cases.', 'Let $\\\\alpha$ and $\\\\beta$ be real numbers such that $-\\\\frac{\\\\pi}{4}<\\\\beta<0<\\\\alpha<\\\\frac{\\\\pi}{4}$. If $\\\\sin (\\\\alpha+\\\\beta)=\\\\frac{1}{3}$ and $\\\\cos (\\\\alpha-\\\\beta)=\\\\frac{2}{3}$, then the greatest integer less than or equal to\\n$\\n\\\\left(\\\\frac{\\\\sin \\\\alpha}{\\\\cos \\\\beta}+\\\\frac{\\\\cos \\\\beta}{\\\\sin \\\\alpha}+\\\\frac{\\\\cos \\\\alpha}{\\\\sin \\\\beta}+\\\\frac{\\\\sin \\\\beta}{\\\\cos \\\\alpha}\\\\right)^{2}\\n$\\nis', 'If $y(x)$ is the solution of the differential equation\\n$\\nx d y-\\\\left(y^{2}-4 y\\\\right) d x=0 \\\\text { for } x>0, \\\\quad y(1)=2\\n$\\nand the slope of the curve $y=y(x)$ is never zero, then the value of $10 y(\\\\sqrt{2})$ is', 'The greatest integer less than or equal to\\n$\\n\\\\int_{1}^{2} \\\\log _{2}\\\\left(x^{3}+1\\\\right) d x+\\\\int_{1}^{\\\\log _{2} 9}\\\\left(2^{x}-1\\\\right)^{\\\\frac{1}{3}} d x\\n$\\nis', 'The product of all positive real values of $x$ satisfying the equation\\n$\\nx^{(16(\\\\log _{5} x)^{3}-68 \\\\log _{5} x)}=5^{-16}\\n$']\n",
            "************************* questions after removing title ***********************\n",
            "['Let $\\\\alpha$ and $\\\\beta$ be real numbers such that $-\\\\frac{\\\\pi}{4}<\\\\beta<0<\\\\alpha<\\\\frac{\\\\pi}{4}$. If $\\\\sin (\\\\alpha+\\\\beta)=\\\\frac{1}{3}$ and $\\\\cos (\\\\alpha-\\\\beta)=\\\\frac{2}{3}$, then the greatest integer less than or equal to\\n$\\n\\\\left(\\\\frac{\\\\sin \\\\alpha}{\\\\cos \\\\beta}+\\\\frac{\\\\cos \\\\beta}{\\\\sin \\\\alpha}+\\\\frac{\\\\cos \\\\alpha}{\\\\sin \\\\beta}+\\\\frac{\\\\sin \\\\beta}{\\\\cos \\\\alpha}\\\\right)^{2}\\n$\\nis', 'If $y(x)$ is the solution of the differential equation\\n$\\nx d y-\\\\left(y^{2}-4 y\\\\right) d x=0 \\\\text { for } x>0, \\\\quad y(1)=2\\n$\\nand the slope of the curve $y=y(x)$ is never zero, then the value of $10 y(\\\\sqrt{2})$ is', 'The greatest integer less than or equal to\\n$\\n\\\\int_{1}^{2} \\\\log _{2}\\\\left(x^{3}+1\\\\right) d x+\\\\int_{1}^{\\\\log _{2} 9}\\\\left(2^{x}-1\\\\right)^{\\\\frac{1}{3}} d x\\n$\\nis', 'The product of all positive real values of $x$ satisfying the equation\\n$\\nx^{(16(\\\\log _{5} x)^{3}-68 \\\\log _{5} x)}=5^{-16}\\n$']\n"
          ]
        }
      ]
    },
    {
      "cell_type": "code",
      "source": [],
      "metadata": {
        "id": "eNj02bp9I-RL"
      },
      "execution_count": null,
      "outputs": []
    }
  ]
}